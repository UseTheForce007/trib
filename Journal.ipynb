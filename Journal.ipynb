{
 "cells": [
  {
   "cell_type": "markdown",
   "metadata": {},
   "source": [
    "<h1> C++ Notes</h1>"
   ]
  },
  {
   "cell_type": "markdown",
   "metadata": {},
   "source": [
    "<h3> Function Template </h3>\n",
    "\n",
    "```cpp\n",
    "template <typename T>\n",
    "T max(T a, T b) {\n",
    "    return a > b ? a : b;\n",
    "}\n",
    "```"
   ]
  },
  {
   "cell_type": "markdown",
   "metadata": {},
   "source": [
    "<p> The compiler will generate a function for each type that is used with the template. However the template must be explicitly instantiated in the source file for each of the types it will be used with.</p>\n",
    "\n",
    "```cpp\n",
    "template int max(int, int);\n",
    "template float max(float, float);\n",
    "```"
   ]
  },
  {
   "cell_type": "markdown",
   "metadata": {},
   "source": [
    "<h3> Classes </h3>\n",
    "\n",
    "<p> The skeleton of a class is as follows: </p>\n",
    "\n",
    "```cpp\n",
    "class ClassName {\n",
    "    public:\n",
    "        // public members\n",
    "    private:\n",
    "        // private members\n",
    "};\n",
    "```\n",
    "<p> This will contain the member functions and variables of the class. The public members are accessible to all functions, while the private members are only accessible to member functions. It will reside in the <strong>Header file</strong>.</p>\n",
    "\n",
    "<p> Default values for member variables will be set in the declaration. </p>\n",
    "\n",
    "```cpp\n",
    "class ClassName {\n",
    "    public:\n",
    "        ClassName(int a = 0, int b = 0) : a(a), b(b) {}\n",
    "    private:\n",
    "        int a;\n",
    "        int b;\n",
    "};\n",
    "```\n",
    "\n",
    "<p> The implementation of the member functions is as follows: </p>\n",
    "\n",
    "```cpp\n",
    "ReturnType ClassName::FunctionName(Parameters) {\n",
    "    // implementation\n",
    "}\n",
    "```\n",
    "<p> This will reside in the <strong>Source file</strong>.</p>"
   ]
  },
  {
   "cell_type": "markdown",
   "metadata": {},
   "source": [
    "<h3> Internal Functions </h3>\n",
    "\n",
    "<p> The main include folder should only have files that are of use to the user. Internal functions should be placed in a separate folder within the src folder. </p>"
   ]
  },
  {
   "cell_type": "markdown",
   "metadata": {},
   "source": [
    "<h3> CMAKE Commands </h3>\n",
    "\n",
    "<p> The following command is used to select include directories. </p>\n",
    "\n",
    "```cmake\n",
    "target_include_directories(target_name PUBLIC include)\n",
    "```\n",
    "<p> PUBLIC is used for include directories that are used by the user. PRIVATE is used for include directories that are used internally. </p>\n",
    "\n",
    "<p> To build the project, the following commands are used: </p>\n",
    "\n",
    "```bash\n",
    "cmake -S . -B build\n",
    "cmake --build build\n",
    "```\n",
    "<p> S is used to specify the source directory, and B is used to specify the build directory. </p>\n",
    "\n",
    "<p> To generate compile commands for the project, the following command is used: </p>\n",
    "\n",
    "```bash\n",
    "cmake -S . -B build -DCMAKE_EXPORT_COMPILE_COMMANDS=ON\n",
    "```\n",
    "<p> This will generate a file called compile_commands.json in the build directory. </p>\n"
   ]
  },
  {
   "cell_type": "markdown",
   "metadata": {},
   "source": [
    "<p> From command palette in VSCode, run clangd:restart-language-server. </p>"
   ]
  }
 ],
 "metadata": {
  "language_info": {
   "name": "python"
  }
 },
 "nbformat": 4,
 "nbformat_minor": 2
}
